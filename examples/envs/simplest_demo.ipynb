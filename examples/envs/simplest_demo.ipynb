{
 "cells": [
  {
   "cell_type": "markdown",
   "metadata": {},
   "source": [
    "# Simplest Environment Demo\n",
    "\n",
    "This notebook demonstrates a simple active inference agent in JAX solving the simplest possible environment using the `jax-pymdp` library.\n",
    "\n",
    "The simplest environment has:\n",
    "- Two states (locations): left (0) and right (1)\n",
    "- Two observations: left (0) and right (1) \n",
    "- Two actions: go left (0) and go right (1)\n",
    "\n",
    "The environment is fully observed (the observation likelihood matrix A is the identity matrix) and deterministic (actions always lead to their corresponding states)."
   ]
  },
  {
   "cell_type": "markdown",
   "metadata": {},
   "source": [
    "## Imports\n",
    "\n",
    "Import the necessary libraries for the active inference agent and environment."
   ]
  },
  {
   "cell_type": "code",
   "execution_count": 8,
   "metadata": {},
   "outputs": [],
   "source": [
    "import jax.numpy as jnp\n",
    "from jax import random as jr\n",
    "from pymdp.envs.simplest import SimplestEnv, print_rollout, render_rollout, plot_beliefs\n",
    "from pymdp.envs.rollout import rollout\n",
    "from pymdp.agent import Agent"
   ]
  },
  {
   "cell_type": "markdown",
   "metadata": {},
   "source": [
    "## Initialize Environment\n",
    "\n",
    "Create the simplest environment with a batch size for parallel processing."
   ]
  },
  {
   "cell_type": "code",
   "execution_count": 9,
   "metadata": {},
   "outputs": [],
   "source": [
    "key_idx = 1  # Initialize master random key index\n",
    "batch_size = 2\n",
    "env = SimplestEnv(batch_size=batch_size)"
   ]
  },
  {
   "cell_type": "markdown",
   "metadata": {},
   "source": [
    "## Basic Demo Setup\n",
    "\n",
    "Set up the agent's generative model by extracting parameters from the environment and creating the agent with no learning enabled."
   ]
  },
  {
   "cell_type": "code",
   "execution_count": 10,
   "metadata": {},
   "outputs": [],
   "source": [
    "# Set up random key\n",
    "key = jr.PRNGKey(key_idx)\n",
    "\n",
    "# Create the agent's generative model based on the environment parameters\n",
    "# Get A tensors (observation model) from environment\n",
    "A = [jnp.array(a, dtype=jnp.float32) for a in env.params[\"A\"]]\n",
    "A_dependencies = env.dependencies[\"A\"]\n",
    "\n",
    "# Get B tensors (transition model) from environment  \n",
    "B = [jnp.array(b, dtype=jnp.float32) for b in env.params[\"B\"]]\n",
    "B_dependencies = env.dependencies[\"B\"]\n",
    "\n",
    "# Get D tensors (initial state beliefs) from environment\n",
    "D = [jnp.array(d, dtype=jnp.float32) for d in env.params[\"D\"]]\n",
    "\n",
    "# Create C tensors (preferences) - all zeros means no preference\n",
    "C = [jnp.zeros((batch_size, a.shape[1]), dtype=jnp.float32) for a in A]\n",
    "\n",
    "# Slightly prefer right state (observation 1) - optional\n",
    "C[0] = C[0].at[:, 1].set(0.1) \n",
    "\n",
    "# Create the agent\n",
    "agent = Agent(\n",
    "    A, B, C, D,\n",
    "    policy_len=1,  # Plan one step ahead\n",
    "    A_dependencies=A_dependencies,\n",
    "    B_dependencies=B_dependencies, \n",
    "    batch_size=batch_size,\n",
    "    learn_A=False,\n",
    "    learn_B=False,\n",
    "    action_selection=\"stochastic\",\n",
    ")"
   ]
  },
  {
   "cell_type": "markdown",
   "metadata": {},
   "source": [
    "## Environment and Agent Configuration\n",
    "\n",
    "Display the key matrices that define the environment dynamics and agent's initial beliefs."
   ]
  },
  {
   "cell_type": "code",
   "execution_count": 11,
   "metadata": {},
   "outputs": [
    {
     "name": "stdout",
     "output_type": "stream",
     "text": [
      "=== Basic Demo Setup ===\n",
      "Environment A matrix (observation model):\n",
      "[[1. 0.]\n",
      " [0. 1.]]\n",
      "Environment B matrix (transition model):\n",
      "[[[1. 0.]\n",
      "  [1. 0.]]\n",
      "\n",
      " [[0. 1.]\n",
      "  [0. 1.]]]\n",
      "Agent starting beliefs: [1. 0.]\n"
     ]
    }
   ],
   "source": [
    "print(\"=== Basic Demo Setup ===\")\n",
    "print(f\"Environment A matrix (observation model):\\n{env.params['A'][0][0]}\")\n",
    "print(f\"Environment B matrix (transition model):\\n{env.params['B'][0][0]}\")\n",
    "print(f\"Agent starting beliefs: {D[0][0]}\")"
   ]
  },
  {
   "cell_type": "markdown",
   "metadata": {},
   "source": [
    "## Run Simulation\n",
    "\n",
    "Execute the active inference agent in the environment for a specified number of timesteps."
   ]
  },
  {
   "cell_type": "code",
   "execution_count": 12,
   "metadata": {},
   "outputs": [],
   "source": [
    "key = jr.PRNGKey(key_idx)\n",
    "T = 5  # Number of timesteps\n",
    "last, info, _ = rollout(agent, env, num_timesteps=T, rng_key=key)"
   ]
  },
  {
   "cell_type": "markdown",
   "metadata": {},
   "source": [
    "## Visualization\n",
    "\n",
    "Render the rollout to visualize the agent's trajectory through the environment."
   ]
  },
  {
   "cell_type": "code",
   "execution_count": 13,
   "metadata": {},
   "outputs": [
    {
     "data": {
      "text/html": [
       "<table class=\"show_videos\" style=\"border-spacing:0px;\"><tr><td style=\"padding:1px;\"><video controls width=\"600\" height=\"600\" style=\"object-fit:cover;\" loop autoplay muted>\n",
       "      <source src=\"data:video/mp4;base64,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\" type=\"video/mp4\"/>\n",
       "      This browser does not support the video tag.\n",
       "      </video></td></tr></table>"
      ],
      "text/plain": [
       "<IPython.core.display.HTML object>"
      ]
     },
     "metadata": {},
     "output_type": "display_data"
    }
   ],
   "source": [
    "render_rollout(env, info)"
   ]
  },
  {
   "cell_type": "markdown",
   "metadata": {},
   "source": [
    "## Results Analysis\n",
    "\n",
    "Print numerical results and plot the agent's beliefs over time for detailed analysis."
   ]
  },
  {
   "cell_type": "code",
   "execution_count": 14,
   "metadata": {},
   "outputs": [
    {
     "name": "stdout",
     "output_type": "stream",
     "text": [
      "\n",
      "=== Experiment Setup ===\n",
      "Number of timesteps: 5\n",
      "Batch size: 2\n",
      "Number of policies: 2\n",
      "\n",
      "=== Initial Timestep (t=0) ===\n",
      "Prior beliefs (D): [L: 1.000, R: 0.000]\n",
      "Observation: [Left]\n",
      "Posterior beliefs: [L: 1.000, R: 0.000]\n",
      "--------------------------------------------------\n",
      "\n",
      "=== Timestep 1 ===\n",
      "Policy selection:\n",
      "  Policy 0               :    0.475\n",
      "  Policy 1               :    0.525\n",
      "Action: [Move to Left]\n",
      "Predicted next state: [L: 1.000, R: 0.000]\n",
      "Observation: [Left]\n",
      "Posterior beliefs: [L: 1.000, R: 0.000]\n",
      "--------------------------------------------------\n",
      "\n",
      "=== Timestep 2 ===\n",
      "Policy selection:\n",
      "  Policy 0               :    0.475\n",
      "  Policy 1               :    0.525\n",
      "Action: [Move to Left]\n",
      "Predicted next state: [L: 1.000, R: 0.000]\n",
      "Observation: [Left]\n",
      "Posterior beliefs: [L: 1.000, R: 0.000]\n",
      "--------------------------------------------------\n",
      "\n",
      "=== Timestep 3 ===\n",
      "Policy selection:\n",
      "  Policy 0               :    0.475\n",
      "  Policy 1               :    0.525\n",
      "Action: [Move to Right]\n",
      "Predicted next state: [L: 1.000, R: 0.000]\n",
      "Observation: [Left]\n",
      "Posterior beliefs: [L: 1.000, R: 0.000]\n",
      "--------------------------------------------------\n",
      "\n",
      "=== Timestep 4 ===\n",
      "Policy selection:\n",
      "  Policy 0               :    0.475\n",
      "  Policy 1               :    0.525\n",
      "Action: [Move to Left]\n",
      "Predicted next state: [L: 0.000, R: 1.000]\n",
      "Observation: [Right]\n",
      "Posterior beliefs: [L: 0.000, R: 1.000]\n",
      "--------------------------------------------------\n",
      "\n",
      "=== Timestep 5 ===\n",
      "Policy selection:\n",
      "  Policy 0               :    0.475\n",
      "  Policy 1               :    0.525\n",
      "Action: [Move to Left]\n",
      "Predicted next state: [L: 1.000, R: 0.000]\n",
      "Observation: [Left]\n",
      "Posterior beliefs: [L: 1.000, R: 0.000]\n",
      "--------------------------------------------------\n",
      "\n",
      "=== End of Experiment ===\n"
     ]
    },
    {
     "data": {
      "image/png": "[encoded data removed]",
      "text/plain": [
       "<Figure size 1200x400 with 3 Axes>"
      ]
     },
     "metadata": {},
     "output_type": "display_data"
    },
    {
     "data": {
      "text/plain": [
       "<module 'matplotlib.pyplot' from '/Users/Lancelotdacosta/Desktop/code-projects/pymdp/.venv/lib/python3.13/site-packages/matplotlib/pyplot.py'>"
      ]
     },
     "execution_count": 14,
     "metadata": {},
     "output_type": "execute_result"
    }
   ],
   "source": [
    "batch_idx = 0\n",
    "print_rollout(info, batch_idx=batch_idx)\n",
    "plot_beliefs(info, agent, batch_idx=batch_idx)"
   ]
  }
 ],
 "metadata": {
  "kernelspec": {
   "display_name": ".venv",
   "language": "python",
   "name": "python3"
  },
  "language_info": {
   "codemirror_mode": {
    "name": "ipython",
    "version": 3
   },
   "file_extension": ".py",
   "mimetype": "text/x-python",
   "name": "python",
   "nbconvert_exporter": "python",
   "pygments_lexer": "ipython3",
   "version": "3.13.5"
  }
 },
 "nbformat": 4,
 "nbformat_minor": 4
}
