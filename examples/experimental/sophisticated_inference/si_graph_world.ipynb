{
 "cells": [
  {
   "cell_type": "markdown",
   "metadata": {},
   "source": [
    "# Sophisticated inference on Graph Worlds\n",
    "\n",
    "This notebook demonstrates tree searching policies with sophisticated active inference."
   ]
  },
  {
   "cell_type": "markdown",
   "metadata": {},
   "source": [
    "Install pygraphviz for visualizing the tree in this notebook. Run the cell below or install pymdp with [visualization] optional dependencies."
   ]
  },
  {
   "cell_type": "code",
   "execution_count": 1,
   "metadata": {},
   "outputs": [
    {
     "name": "stdout",
     "output_type": "stream",
     "text": [
      "Requirement already satisfied: pygraphviz==1.14 in /home/tverbele/Code/python/farl_and_kriston/.venv/lib/python3.11/site-packages (1.14)\n",
      "\n",
      "\u001b[1m[\u001b[0m\u001b[34;49mnotice\u001b[0m\u001b[1;39;49m]\u001b[0m\u001b[39;49m A new release of pip is available: \u001b[0m\u001b[31;49m24.0\u001b[0m\u001b[39;49m -> \u001b[0m\u001b[32;49m25.1.1\u001b[0m\n",
      "\u001b[1m[\u001b[0m\u001b[34;49mnotice\u001b[0m\u001b[1;39;49m]\u001b[0m\u001b[39;49m To update, run: \u001b[0m\u001b[32;49mpip install --upgrade pip\u001b[0m\n"
     ]
    }
   ],
   "source": [
    "!pip install pygraphviz==1.14"
   ]
  },
  {
   "cell_type": "markdown",
   "metadata": {},
   "source": [
    "We create a `GraphEnv`, where an agent can move between locations on a graph, and see objects at the location it is at."
   ]
  },
  {
   "cell_type": "code",
   "execution_count": 2,
   "metadata": {},
   "outputs": [],
   "source": [
    "import jax.numpy as jnp\n",
    "import jax.tree_util as jtu\n",
    "from jax import random as jr\n",
    "\n",
    "key = jr.PRNGKey(0)"
   ]
  },
  {
   "cell_type": "code",
   "execution_count": 3,
   "metadata": {},
   "outputs": [],
   "source": [
    "import networkx as nx\n",
    "from pymdp.envs import GraphEnv\n",
    "from pymdp.envs.graph_worlds import generate_connected_clusters\n",
    "\n",
    "graph, _ = generate_connected_clusters(cluster_size=3, connections=2)\n",
    "env = GraphEnv(graph, object_locations=[4], agent_locations=[0])"
   ]
  },
  {
   "cell_type": "code",
   "execution_count": 4,
   "metadata": {},
   "outputs": [
    {
     "data": {
      "image/png": "[encoded data removed]",
      "text/plain": [
       "<Figure size 640x480 with 1 Axes>"
      ]
     },
     "metadata": {},
     "output_type": "display_data"
    }
   ],
   "source": [
    "nx.draw(graph, with_labels=True, font_weight=\"bold\")"
   ]
  },
  {
   "cell_type": "markdown",
   "metadata": {},
   "source": [
    "Let's create an agent, we give the agent a prior on the object location to showcase the planning depth and pruning. We let the agent start at location 0, and give it a prior about where the object is (location 4)."
   ]
  },
  {
   "cell_type": "code",
   "execution_count": 5,
   "metadata": {},
   "outputs": [],
   "source": [
    "from pymdp.agent import Agent\n",
    "\n",
    "A = [a.copy() for a in env.params[\"A\"]]\n",
    "B = [b.copy() for b in env.params[\"B\"]]\n",
    "A_dependencies = env.dependencies[\"A\"]\n",
    "B_dependencies = env.dependencies[\"B\"]\n",
    "\n",
    "C = [jnp.zeros(a.shape[:2]) for a in A]\n",
    "C[1] = C[1].at[1].set(1.0)\n",
    "\n",
    "D = [jnp.ones(b.shape[:2]) for b in B]\n",
    "D[0] = D[0].at[0, 0].set(100.0)\n",
    "D[1] = D[1].at[0, 4].set(10.0)\n",
    "D = jtu.tree_map(lambda x: x / x.sum(), D)\n",
    "\n",
    "agent = Agent(A, B, C, D, A_dependencies=A_dependencies, B_dependencies=B_dependencies, policy_len=1, apply_batch=False)"
   ]
  },
  {
   "cell_type": "code",
   "execution_count": 6,
   "metadata": {},
   "outputs": [],
   "source": [
    "keys = jr.split(key, 2)\n",
    "key = keys[0]\n",
    "obs, env = env.reset(keys[1:])"
   ]
  },
  {
   "cell_type": "code",
   "execution_count": 7,
   "metadata": {},
   "outputs": [],
   "source": [
    "empirical_prior = agent.D\n",
    "\n",
    "qs = agent.infer_states(\n",
    "    observations=obs,\n",
    "    past_actions=None,\n",
    "    empirical_prior=empirical_prior,\n",
    "    qs_hist=None,\n",
    ")"
   ]
  },
  {
   "cell_type": "markdown",
   "metadata": {},
   "source": [
    "Now we can call the `tree_search` method and visualize the planning tree."
   ]
  },
  {
   "cell_type": "code",
   "execution_count": 8,
   "metadata": {},
   "outputs": [],
   "source": [
    "from pymdp.planning.si import tree_search\n",
    "\n",
    "tree = tree_search(agent, qs, horizon=2, policy_prune_threshold=1/16, observation_prune_threshold=1/16, gamma=5)"
   ]
  },
  {
   "cell_type": "code",
   "execution_count": 9,
   "metadata": {},
   "outputs": [],
   "source": [
    "import matplotlib.pyplot as plt\n",
    "\n",
    "def observation_label(o):\n",
    "    return \"location: \" + str(o[0][0, 0]) + \"\\n object: \" + str(o[1][0,0])\n",
    "\n",
    "def policy_label(a):\n",
    "    return \"move \\n to: \"+ str(a[0])\n",
    "\n",
    "def plot_plan_tree(\n",
    "    tree,\n",
    "    prob_threshold=0.2\n",
    "):\n",
    "    root_node = tree.root()\n",
    "\n",
    "    colormap = plt.cm.Blues\n",
    "    colormap_policy = plt.cm.Reds\n",
    "\n",
    "    # create graph\n",
    "    count = 0\n",
    "    G = nx.Graph()\n",
    "    to_visit = [(root_node, 0)]\n",
    "    labels = {}\n",
    "    colors = []\n",
    "\n",
    "    G.add_node(count)\n",
    "    labels[0] = \"\"\n",
    "    colors.append((0.0, 0.0, 0.0, 1.0))\n",
    "    count += 1\n",
    "\n",
    "    # visit children\n",
    "    while len(to_visit) > 0:\n",
    "        node, id = to_visit.pop()\n",
    "        for child in node[\"children\"]:\n",
    "            prob = child.get(\"prob\", 0)\n",
    "            if prob < prob_threshold:\n",
    "                continue\n",
    "\n",
    "            G.add_node(count)\n",
    "            G.add_edge(id, count)\n",
    "\n",
    "            cm = colormap\n",
    "            if \"policy\" in child.keys():\n",
    "                a = child[\"policy\"]\n",
    "                labels[count] = policy_label(a)\n",
    "                cm = colormap_policy\n",
    "            elif \"observation\" in child.keys():\n",
    "                o = child[\"observation\"]\n",
    "                labels[count] = observation_label(o)\n",
    "            else:\n",
    "                labels[count] = \"\"\n",
    "\n",
    "\n",
    "            r, g, b, a = cm(child.get(\"prob\", 0))\n",
    "            colors.append((r, g, b, 0.5))\n",
    "\n",
    "            to_visit.append((child, count))\n",
    "            count += 1.0\n",
    "\n",
    "\n",
    "    pos = nx.nx_agraph.graphviz_layout(G, prog=\"dot\")\n",
    "    nx.draw(\n",
    "        G,\n",
    "        pos,\n",
    "        with_labels=True,\n",
    "        font_size=8,\n",
    "        labels=labels,\n",
    "        node_color=colors,\n",
    "    )"
   ]
  },
  {
   "cell_type": "markdown",
   "metadata": {},
   "source": [
    "Given the agent prior, it should commit to going to location 4, expecting to see the object there."
   ]
  },
  {
   "cell_type": "code",
   "execution_count": 10,
   "metadata": {},
   "outputs": [
    {
     "data": {
      "image/png": "[encoded data removed]",
      "text/plain": [
       "<Figure size 640x480 with 1 Axes>"
      ]
     },
     "metadata": {},
     "output_type": "display_data"
    }
   ],
   "source": [
    "plot_plan_tree(tree, prob_threshold=0.2)"
   ]
  },
  {
   "cell_type": "markdown",
   "metadata": {},
   "source": [
    "The `si_policy_search` returns a method that yields a qpi, that can be effectively used in an active inference loop. Unfortunately this doesn't yet work with the `rollout` function as it is not properly jit'able yet."
   ]
  },
  {
   "cell_type": "code",
   "execution_count": 11,
   "metadata": {},
   "outputs": [],
   "source": [
    "from pymdp.planning.si import si_policy_search\n",
    "\n",
    "# TODO we cannot yet use this with rollout as it cannot be jit-ed\n",
    "# last, result, env = rollout(agent, env, 10, key, policy_search=si_policy_search(max_depth=3))"
   ]
  },
  {
   "cell_type": "markdown",
   "metadata": {},
   "source": [
    "However, we can use our own for loop and call `infer_and_plan` with a `si_policy_search` function."
   ]
  },
  {
   "cell_type": "code",
   "execution_count": 12,
   "metadata": {},
   "outputs": [
    {
     "name": "stdout",
     "output_type": "stream",
     "text": [
      "Step 1: Action taken: [[3 0]], Observation: [Array([[3.]], dtype=float32), Array([[0.]], dtype=float32)]\n",
      "Step 2: Action taken: [[4 0]], Observation: [Array([[4.]], dtype=float32), Array([[1.]], dtype=float32)]\n",
      "Step 3: Action taken: [[0 0]], Observation: [Array([[4.]], dtype=float32), Array([[1.]], dtype=float32)]\n",
      "Step 4: Action taken: [[0 0]], Observation: [Array([[4.]], dtype=float32), Array([[1.]], dtype=float32)]\n",
      "Step 5: Action taken: [[0 0]], Observation: [Array([[4.]], dtype=float32), Array([[1.]], dtype=float32)]\n"
     ]
    }
   ],
   "source": [
    "import jax.tree_util as jtu\n",
    "from pymdp.envs.rollout import infer_and_plan\n",
    "\n",
    "rng_key = jr.PRNGKey(0)\n",
    "\n",
    "policy_search=si_policy_search(max_depth=2, gamma=5)\n",
    "\n",
    "# start with None action, and expand agent.D to add time dimension\n",
    "action = None\n",
    "qs = jtu.tree_map(lambda x: jnp.expand_dims(x, -2), agent.D)\n",
    "\n",
    "# reset environment and get initial observation\n",
    "keys = jr.split(rng_key, agent.batch_size + 1)\n",
    "rng_key = keys[0]\n",
    "observation, env = env.reset(keys[1:])\n",
    "\n",
    "for i in range(5):\n",
    "    # random keys\n",
    "    keys = jr.split(rng_key, agent.batch_size + 2)\n",
    "    rng_key = keys[0]\n",
    "\n",
    "    # infer and plan\n",
    "    action, qs, _ = infer_and_plan(agent, qs, observation, action, keys[1], policy_search=policy_search)\n",
    "\n",
    "    # step the environment\n",
    "    observation, env = env.step(keys[2:], action)\n",
    "\n",
    "    print(f\"Step {i+1}: Action taken: {action}, Observation: {observation}\")"
   ]
  }
 ],
 "metadata": {
  "kernelspec": {
   "display_name": "farl_and_kriston",
   "language": "python",
   "name": "python3"
  },
  "language_info": {
   "codemirror_mode": {
    "name": "ipython",
    "version": 3
   },
   "file_extension": ".py",
   "mimetype": "text/x-python",
   "name": "python",
   "nbconvert_exporter": "python",
   "pygments_lexer": "ipython3",
   "version": "3.11.9"
  }
 },
 "nbformat": 4,
 "nbformat_minor": 2
}
