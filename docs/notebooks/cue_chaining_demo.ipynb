{
 "cells": [
  {
   "cell_type": "markdown",
   "metadata": {},
   "source": [
    "# Active Inference Demo: Epistemic Chaining\n",
    "\n",
    "[![Open in Colab](https://colab.research.google.com/assets/colab-badge.svg)](https://colab.research.google.com/github/infer-actively/pymdp/blob/master/docs/notebooks/cue_chaining_demo.ipynb)\n",
    "\n",
    "*Author: Conor Heins*\n",
    "\n",
    "This demo notebook builds a generative model from scratch, constructs an `Agent` instance using the constructed generative model, and then runs an active inference simulation in a simple environment.\n",
    "\n",
    "The environment used here is similar in spirit to the [T-Maze demo](https://pymdp-rtd.readthedocs.io/en/latest/notebooks/tmaze_demo.html), but the task structure is more complex. Here, we analogize the agent to a rat tasked with solving a spatial puzzle. The rat must sequentially visit a sequence of two cues located at different locations in a 2-D grid world, in order to ultimately reveal the locations of two (opposite) reward outcomes: one location will give the rat a reward (\"Cheese\") and the other location will give the rat a punishment (\"Shock\").\n",
    "\n",
    "Using active inference to solve a POMDP representation of this task, the rat can successfully forage the correct cues in sequence, in order to ultimately discover the location of the \"Cheese\", and avoid the \"Shock\"."
   ]
  },
  {
   "cell_type": "markdown",
   "metadata": {},
   "source": [
    "*Note*: When running this notebook in Google Colab, you may have to run `!pip install inferactively-pymdp` at the top of the notebook, before you can `import pymdp`. That cell is left commented out below, in case you are running this notebook from Google Colab."
   ]
  },
  {
   "cell_type": "code",
   "execution_count": 1,
   "metadata": {},
   "outputs": [],
   "source": [
    "# ! pip install inferactively-pymdp"
   ]
  },
  {
   "cell_type": "markdown",
   "metadata": {},
   "source": [
    "### Imports"
   ]
  },
  {
   "cell_type": "code",
   "execution_count": 2,
   "metadata": {},
   "outputs": [],
   "source": [
    "import os\n",
    "import sys\n",
    "import pathlib\n",
    "import numpy as np\n",
    "\n",
    "from pymdp.agent import Agent\n",
    "from pymdp import utils, maths"
   ]
  },
  {
   "cell_type": "markdown",
   "metadata": {},
   "source": [
    "## Grid World Parameters\n",
    "Let's begin by initializing several variables related to the physical environment inhabited by the agent. These variables will encode things like the dimensions of the grid, the possible locations of the different cues, and the possible locations of the reward or punishment.\n",
    "\n",
    "Having these variables defined will also come in handy when setting up the generative model of our agent and when creating the environment class.\n",
    "\n",
    "We will create a grid world with dimensions $5 \\times 7$. Particular locations of the grid are indexed as (y, x) tuples, that select a particular row and column respectively of that location in the grid.\n",
    "\n",
    "By design of the task, one location in the grid world contain a cue: **Cue 1**. There will be four additional locations, that will serve as possible locations for a second cue: **Cue 2**. Crucially, only *one* of these four additional locations will actually contain **Cue 2** - the other 3 will be empty. When the agent visits **Cue 1** by moving to its location, one of four signals is presented, which each unambiguously signal which of the 4 possible locations **Cue 2** occupies -- we can refer to these Cue-2-location-signals with obvious names: `L1`, `L2`, `L3`, `L4`. Once **Cue 2**'s location has been revealed, by visiting that location the agent will then receive one of two possible signals, that indicate where the hidden reward is located (and conversely, where the hidden punishment lies). These two possible reward/punishment locations are indicated by two locations: \"TOP\" (meaning the \"Cheese\" reward is on the upper of the two locations) or \"BOTTOM\" (meaning the \"Cheese\" reward is on the lower of the two locations).\n",
    "\n",
    "In this way, the most efficient and risk-sensitive way to achieve reward in this task is to first visit **Cue 1**, in order to figure out the location of **Cue 2**, in order to figure out the location of the reward.\n",
    "\n",
    "*Tip*: When setting up `pymdp` generative models and task environments, we recommend creating additional variables, like lists of strings or dicts with string-valued keys, that help you relate the values of various aspects of the task to semantically-meaning labels. These come in handy when generating print statements during debugging or labels for plotting. For example, below we create a list called `reward_conditions` that stores the \"names\" of the two reward conditions: `\"TOP\"` and `\"BOTTOM\"`"
   ]
  },
  {
   "cell_type": "code",
   "execution_count": 3,
   "metadata": {},
   "outputs": [],
   "source": [
    "grid_dims = [5, 7] # dimensions of the grid (number of rows, number of columns)\n",
    "num_grid_points = np.prod(grid_dims) # total number of grid locations (rows X columns)\n",
    "\n",
    "# create a look-up table `loc_list` that maps linear indices to tuples of (y, x) coordinates \n",
    "grid = np.arange(num_grid_points).reshape(grid_dims)\n",
    "it = np.nditer(grid, flags=[\"multi_index\"])\n",
    "\n",
    "loc_list = []\n",
    "while not it.finished:\n",
    "    loc_list.append(it.multi_index)\n",
    "    it.iternext()\n",
    "\n",
    "# (y, x) coordinate of the first cue's location, and then a list of the (y, x) coordinates of the possible locations of the second cue, and their labels (`L1`, `L2`, ...)\n",
    "cue1_location = (2, 0)\n",
    "\n",
    "cue2_loc_names = ['L1', 'L2', 'L3', 'L4']\n",
    "cue2_locations = [(0, 2), (1, 3), (3, 3), (4, 2)]\n",
    "\n",
    "# names of the reward conditions and their locations\n",
    "reward_conditions = [\"TOP\", \"BOTTOM\"]\n",
    "reward_locations = [(1, 5), (3, 5)]\n"
   ]
  },
  {
   "cell_type": "markdown",
   "metadata": {},
   "source": [
    "### Visualize the grid world\n",
    "\n",
    "Let's quickly use the variables we just defined to visualize the grid world, including the **Cue 1** location, the possible **Cue 2** locations, and the possible reward locations (in gray, since we don't know which one has the \"Cheese\" and which one has the \"Shock\")\n"
   ]
  },
  {
   "cell_type": "code",
   "execution_count": 4,
   "metadata": {},
   "outputs": [
    {
     "data": {
      "image/png": "[encoded data removed]",
      "text/plain": [
       "<Figure size 720x432 with 1 Axes>"
      ]
     },
     "metadata": {
      "needs_background": "light"
     },
     "output_type": "display_data"
    }
   ],
   "source": [
    "import matplotlib.pyplot as plt\n",
    "import matplotlib.patches as patches\n",
    "import matplotlib.cm as cm\n",
    "\n",
    "fig, ax = plt.subplots(figsize=(10, 6)) \n",
    "\n",
    "# create the grid visualization\n",
    "X, Y = np.meshgrid(np.arange(grid_dims[1]+1), np.arange(grid_dims[0]+1))\n",
    "h = ax.pcolormesh(X, Y, np.ones(grid_dims), edgecolors='k', vmin = 0, vmax = 30, linewidth=3, cmap = 'coolwarm')\n",
    "ax.invert_yaxis()\n",
    "\n",
    "# Put gray boxes around the possible reward locations\n",
    "reward_top = ax.add_patch(patches.Rectangle((reward_locations[0][1],reward_locations[0][0]),1.0,1.0,linewidth=5,edgecolor=[0.5, 0.5, 0.5],facecolor=[0.5, 0.5, 0.5]))\n",
    "reward_bottom = ax.add_patch(patches.Rectangle((reward_locations[1][1],reward_locations[1][0]),1.0,1.0,linewidth=5,edgecolor=[0.5, 0.5, 0.5],facecolor=[0.5, 0.5, 0.5]))\n",
    "\n",
    "text_offsets = [0.4, 0.6]\n",
    "\n",
    "cue_grid = np.ones(grid_dims)\n",
    "cue_grid[cue1_location[0],cue1_location[1]] = 15.0\n",
    "for ii, loc_ii in enumerate(cue2_locations):\n",
    "  row_coord, column_coord = loc_ii\n",
    "  cue_grid[row_coord, column_coord] = 5.0\n",
    "  ax.text(column_coord+text_offsets[0], row_coord+text_offsets[1], cue2_loc_names[ii], fontsize = 15, color='k')\n",
    "h.set_array(cue_grid.ravel())\n",
    "\n"
   ]
  },
  {
   "cell_type": "markdown",
   "metadata": {},
   "source": [
    "## Generative model\n",
    "\n",
    "The hidden states $\\mathbf{s}$ of the generative model are factorized into three hidden states factors:\n",
    "\n",
    "1. a **Location** hidden state factor with as many levels as there are grid locations. This encodes the agent's location in the grid world.\n",
    "2. a **Cue 2 Location** hidden state factor with 4 levels -- this encodes in which of the four possible locations **Cue 2** is located.\n",
    "3. a **Reward Condition** hidden state factor with 2 levels -- this encodes which of the two reward locations (\"TOP\" or \"BOTTOM\") the \"Cheese\" is to be found in. When the **Reward Condition** level is \"TOP\", then the \"Cheese\" reward is the upper of the two locations, and the \"Shock\" punishment is on the lower of the two locations. The locations are switched in the \"BOTTOM\" level of the **Reward Condition** factor.\n",
    "\n",
    "The observations $\\mathbf{o}$ of the generative model are factorized into four different observation modalities:\n",
    "\n",
    "1. a **Location** observation modality with as many levels as there are grid locations, representing the agent's observation of its location in the grid world.\n",
    "2. a **Cue 1** observation modality with 5 levels -- this is an observation, only obtained at the **Cue 1** location, that signals in which of the 4 possible locations **Cue 2** is located. When not at the **Cue 1** location, the agent sees `Null` or a meaningless observation.\n",
    "3. a **Cue 2** observation modality with 3 levels -- this is an observation, only obtained at the **Cue 2** location, that signals in which of the two reward locations (\"TOP\" or \"BOTTOM\") the \"Cheese\" is located. When not at the **Cue 2** location, the agent sees `Null` or a meaningless observation.\n",
    "4. a **Reward** observation modality with 3 levels -- this is an observation that signals whether the agent is receiving \"Cheese\", \"Shock\" or nothing at all (\"Null\"). The agent only receives \"Cheese\" or \"Shock\" when occupying one of the two reward locations, and `Null` otherwise.\n",
    "\n",
    "\n",
    "As is the usual convention in `pymdp`, let's create a list that contains the dimensionalities of the hidden state factors, named `num_states`, and a list that contains the dimensionalities of the observation modalities, named `num_obs`. "
   ]
  },
  {
   "cell_type": "code",
   "execution_count": 5,
   "metadata": {},
   "outputs": [],
   "source": [
    "# list of dimensionalities of the hidden states -- useful for creating generative model later on\n",
    "num_states = [num_grid_points, len(cue2_locations), len(reward_conditions)]\n",
    "\n",
    "# Names of the cue1 observation levels, the cue2 observation levels, and the reward observation levels\n",
    "cue1_names = ['Null'] + cue2_loc_names # signals for the possible Cue 2 locations, that only are seen when agent is visiting Cue 1\n",
    "cue2_names = ['Null', 'reward_on_top', 'reward_on_bottom']\n",
    "reward_names = ['Null', 'Cheese', 'Shock']\n",
    "\n",
    "num_obs = [num_grid_points, len(cue1_names), len(cue2_names), len(reward_names)]"
   ]
  },
  {
   "cell_type": "markdown",
   "metadata": {},
   "source": [
    "### The observation model: **A** array\n",
    "Now using `num_states` and `num_obs` we can initialize `A`, the observation model"
   ]
  },
  {
   "cell_type": "code",
   "execution_count": 6,
   "metadata": {},
   "outputs": [],
   "source": [
    "A_m_shapes = [ [o_dim] + num_states for o_dim in num_obs] # list of shapes of modality-specific A[m] arrays\n",
    "A = utils.obj_array_zeros(A_m_shapes) # initialize A array to an object array of all-zero subarrays"
   ]
  },
  {
   "cell_type": "markdown",
   "metadata": {},
   "source": [
    "Let's fill out the various modalities of the `A` array, encoding the agents beliefs about how hidden states probabilistically cause observations within each modality.\n",
    "\n",
    "Starting with the `0`-th modality, the **Location** observation modality: `A[0]`"
   ]
  },
  {
   "cell_type": "code",
   "execution_count": 7,
   "metadata": {},
   "outputs": [],
   "source": [
    "# make the location observation only depend on the location state (proprioceptive observation modality)\n",
    "A[0] = np.tile(np.expand_dims(np.eye(num_grid_points), (-2, -1)), (1, 1, num_states[1], num_states[2]))"
   ]
  },
  {
   "cell_type": "markdown",
   "metadata": {},
   "source": [
    "Now we can build the `1`-st modality, the **Cue 1** observation modality: `A[1]`"
   ]
  },
  {
   "cell_type": "code",
   "execution_count": 8,
   "metadata": {},
   "outputs": [],
   "source": [
    "# make the cue1 observation depend on the location (being at cue1_location) and the true location of cue2\n",
    "A[1][0,:,:,:] = 1.0 # default makes Null the most likely observation everywhere\n",
    "\n",
    "# Make the Cue 1 signal depend on 1) being at the Cue 1 location and 2) the location of Cue 2\n",
    "for i, cue_loc2_i in enumerate(cue2_locations):\n",
    "    A[1][0,loc_list.index(cue1_location),i,:] = 0.0\n",
    "    A[1][i+1,loc_list.index(cue1_location),i,:] = 1.0"
   ]
  },
  {
   "cell_type": "markdown",
   "metadata": {},
   "source": [
    "Now we can build the `2`-nd modality, the **Cue 2** observation modality: `A[2]`"
   ]
  },
  {
   "cell_type": "code",
   "execution_count": 9,
   "metadata": {},
   "outputs": [],
   "source": [
    "# make the cue2 observation depend on the location (being at the correct cue2_location) and the reward condition\n",
    "A[2][0,:,:,:] = 1.0 # default makes Null the most likely observation everywhere\n",
    "\n",
    "for i, cue_loc2_i in enumerate(cue2_locations):\n",
    "\n",
    "    # if the cue2-location is the one you're currently at, then you get a signal about where the reward is\n",
    "    A[2][0,loc_list.index(cue_loc2_i),i,:] = 0.0 \n",
    "    A[2][1,loc_list.index(cue_loc2_i),i,0] = 1.0\n",
    "    A[2][2,loc_list.index(cue_loc2_i),i,1] = 1.0"
   ]
  },
  {
   "cell_type": "markdown",
   "metadata": {},
   "source": [
    "Finally, we build the 3rd modality, the **Reward** observation modality: `A[3]`"
   ]
  },
  {
   "cell_type": "code",
   "execution_count": 10,
   "metadata": {},
   "outputs": [],
   "source": [
    "# make the reward observation depend on the location (being at reward location) and the reward condition\n",
    "A[3][0,:,:,:] = 1.0 # default makes Null the most likely observation everywhere\n",
    "\n",
    "rew_top_idx = loc_list.index(reward_locations[0]) # linear index of the location of the \"TOP\" reward location\n",
    "rew_bott_idx = loc_list.index(reward_locations[1]) # linear index of the location of the \"BOTTOM\" reward location\n",
    "\n",
    "# fill out the contingencies when the agent is in the \"TOP\" reward location\n",
    "A[3][0,rew_top_idx,:,:] = 0.0\n",
    "A[3][1,rew_top_idx,:,0] = 1.0\n",
    "A[3][2,rew_top_idx,:,1] = 1.0\n",
    "\n",
    "# fill out the contingencies when the agent is in the \"BOTTOM\" reward location\n",
    "A[3][0,rew_bott_idx,:,:] = 0.0\n",
    "A[3][1,rew_bott_idx,:,1] = 1.0\n",
    "A[3][2,rew_bott_idx,:,0] = 1.0"
   ]
  },
  {
   "cell_type": "markdown",
   "metadata": {},
   "source": [
    "### The transition model: **B** array\n",
    "To create the `B` array or transition model, we have to further specify `num_controls`, which like `num_states` / `num_obs` is a list, but this time of the dimensionalities of each *control factor*, which are the hidden state factors that are controllable by the agent. Uncontrollable hidden state factors can be encoded as control factors of dimension 1. Once `num_controls` is defined, we can then use it and `num_states` to specify the dimensionality of the `B` arrays. Recall that in `pymdp` hidden state factors are conditionally independent of eachother, meaning that each sub-array `B[f]` describes the dynamics of only a single hidden state factor, and its probabilistic dependence on both its own state (at the previous time) and the state of its corresponding control factor.\n",
    "\n",
    "In the current grid world task, we will have the agent have the ability to make movements in the 4 cardinal directions (UP, DOWN, LEFT, RIGHT) as well as the option to stay in the same place (STAY). This means we will associate a single 5-dimensional control state factor with the first hidden state factor. \n",
    "\n",
    "*Note*: Make sure the indices of the `num_controls` variables \"lines up\" with those of `num_states`."
   ]
  },
  {
   "cell_type": "code",
   "execution_count": 11,
   "metadata": {},
   "outputs": [],
   "source": [
    "# initialize `num_controls`\n",
    "num_controls = [5, 1, 1]\n",
    "\n",
    "# initialize the shapes of each sub-array `B[f]`\n",
    "B_f_shapes = [ [ns, ns, num_controls[f]] for f, ns in enumerate(num_states)]\n",
    "\n",
    "# create the `B` array and fill it out\n",
    "B = utils.obj_array_zeros(B_f_shapes)"
   ]
  },
  {
   "cell_type": "markdown",
   "metadata": {},
   "source": [
    "Fill out `B[0]` according to the expected consequences of each of the 5 actions. Note that we also create a list that stores the names of each action, for interpretability."
   ]
  },
  {
   "cell_type": "code",
   "execution_count": 12,
   "metadata": {},
   "outputs": [],
   "source": [
    "actions = [\"UP\", \"DOWN\", \"LEFT\", \"RIGHT\", \"STAY\"]\n",
    "\n",
    "# fill out `B[0]` using the \n",
    "for action_id, action_label in enumerate(actions):\n",
    "\n",
    "  for curr_state, grid_location in enumerate(loc_list):\n",
    "\n",
    "    y, x = grid_location\n",
    "\n",
    "    if action_label == \"UP\":\n",
    "      next_y = y - 1 if y > 0 else y \n",
    "      next_x = x\n",
    "    elif action_label == \"DOWN\":\n",
    "      next_y = y + 1 if y < (grid_dims[0]-1) else y \n",
    "      next_x = x\n",
    "    elif action_label == \"LEFT\":\n",
    "      next_x = x - 1 if x > 0 else x \n",
    "      next_y = y\n",
    "    elif action_label == \"RIGHT\":\n",
    "      next_x = x + 1 if x < (grid_dims[1]-1) else x \n",
    "      next_y = y\n",
    "    elif action_label == \"STAY\":\n",
    "      next_x = x\n",
    "      next_y = y\n",
    "\n",
    "    new_location = (next_y, next_x)\n",
    "    next_state = loc_list.index(new_location)\n",
    "    B[0][next_state, curr_state, action_id] = 1.0"
   ]
  },
  {
   "cell_type": "markdown",
   "metadata": {},
   "source": [
    "Fill out `B[1]` and `B[2]` as identity matrices, encoding the fact that those hidden states are uncontrollable"
   ]
  },
  {
   "cell_type": "code",
   "execution_count": 13,
   "metadata": {},
   "outputs": [],
   "source": [
    "B[1][:,:,0] = np.eye(num_states[1])\n",
    "B[2][:,:,0] = np.eye(num_states[2])"
   ]
  },
  {
   "cell_type": "markdown",
   "metadata": {},
   "source": [
    "### Prior preferences: the **C** vectors\n",
    "\n",
    "Now we specify the agent's prior over observations, also known as the \"prior preferences\" or \"goal vector.\" This is not technically a part of the same generative model used for inference of hidden states, but part of a special predictive generative model using for policy inference. \n",
    "\n",
    "Since the prior preferences are defined in `pymdp` as priors over observations, not states, so `C` will be an object array whose sub-arrays correspond to the priors over specific observation modalities, e.g `C[3]` encodes the prior preferences for different levels of the **Reward** observation modality."
   ]
  },
  {
   "cell_type": "code",
   "execution_count": 14,
   "metadata": {},
   "outputs": [],
   "source": [
    "C = utils.obj_array_zeros(num_obs)\n",
    "\n",
    "C[3][1] = 2.0 # make the agent want to encounter the \"Cheese\" observation level\n",
    "C[3][2] = -4.0 # make the agent not want to encounter the \"Shock\" observation level"
   ]
  },
  {
   "cell_type": "markdown",
   "metadata": {},
   "source": [
    "### Prior over (initial) hidden states: the **D** vectors\n",
    "\n",
    "Now we specify the agent's prior over initial hidden states, the `D` array. Since it's defined over the multi-factor hidden states in this case, `D` will be an object array whose sub-arrays correspond to the priors over specific hidden state factors, e.g `D[0]` encodes the prior beliefs over the initial location of the agent in the grid world."
   ]
  },
  {
   "cell_type": "code",
   "execution_count": 15,
   "metadata": {},
   "outputs": [],
   "source": [
    "D = utils.obj_array_uniform(num_states)\n",
    "D[0] = utils.onehot(loc_list.index((0,0)), num_grid_points)"
   ]
  },
  {
   "cell_type": "markdown",
   "metadata": {},
   "source": [
    "## Generative process\n",
    "\n",
    "Now we need to write down the \"rules\" of the game, i.e. the environment that the agent will actually be interacting with. The most concise way to do this in `pymdp` is by adopting a similar format to what's used in frameworks like OpenAIGym -- namely, we create an `env` class that takes actions as inputs to a `self.step()` method, and returns observations for the agent as outputs. In Active inference we refer to this agent-independent, physical \"reality\" in which the agent operates as the *generative process*, to be distinguished from the agent's representation of that reality the *generative model* (the `A`, `B`, `C` and `D` that we just wrote down above)."
   ]
  },
  {
   "cell_type": "markdown",
   "metadata": {},
   "source": [
    "### Writing a custom `env` \n",
    "\n",
    "Now we'll define an environment class called `GridWorldEnv`. The constructor for this class allows you to establish various parameters of the generative process, like where the agent starts in the grid-world at the beginning of the trial (`starting_loc`), the location of **Cue 1** (`cue1_loc`), the location of **Cue 2** (`cue2_loc`), and the reward condition (`reward_condition`).\n",
    "\n",
    "*Note*: Remember the distinction between the generative model and the generative process: one can build the environment class to be as arbitrarily different from the agent's generative model as desired. For example, for the `GridWorldEnv` example, you could construct the agent's `A` array such that the agent *believes* **Cue 1** is in Location `(1,0)`, but in fact the cue is located somewhere else like `(3,0)` (as would be set by the `cue1_loc` argument to the `GridWorldEnv` constructor). Similarly, one could write the internal `step` method of the `GridWorldEnv` class so that the way the `reward_condition` is signalled is opposite from what the agent expects -- so when the agent sees a particular signal at the **Cue 2** location, they *assume* (via the `A` array) it means that the \"Cheese\" is located on the `\"TOP\"` location, but in fact the rule is switched so that \"Shock\" is at the `\"TOP\"` location in reality, and \"Cheese\" is actually at the `\"BOTTOM\"` location."
   ]
  },
  {
   "cell_type": "code",
   "execution_count": 16,
   "metadata": {},
   "outputs": [],
   "source": [
    "class GridWorldEnv():\n",
    "    \n",
    "    def __init__(self,starting_loc = (0,0), cue1_loc = (2, 0), cue2 = 'L1', reward_condition = 'TOP'):\n",
    "\n",
    "        self.init_loc = starting_loc\n",
    "        self.current_location = self.init_loc\n",
    "\n",
    "        self.cue1_loc = cue1_loc\n",
    "        self.cue2_name = cue2\n",
    "        self.cue2_loc_names = ['L1', 'L2', 'L3', 'L4']\n",
    "        self.cue2_loc = cue2_locations[self.cue2_loc_names.index(self.cue2_name)]\n",
    "\n",
    "        self.reward_condition = reward_condition\n",
    "        print(f'Starting location is {self.init_loc}, Reward condition is {self.reward_condition}, cue is located in {self.cue2_name}')\n",
    "    \n",
    "    def step(self,action_label):\n",
    "\n",
    "        (Y, X) = self.current_location\n",
    "\n",
    "        if action_label == \"UP\": \n",
    "          \n",
    "          Y_new = Y - 1 if Y > 0 else Y\n",
    "          X_new = X\n",
    "\n",
    "        elif action_label == \"DOWN\": \n",
    "\n",
    "          Y_new = Y + 1 if Y < (grid_dims[0]-1) else Y\n",
    "          X_new = X\n",
    "\n",
    "        elif action_label == \"LEFT\": \n",
    "          Y_new = Y\n",
    "          X_new = X - 1 if X > 0 else X\n",
    "\n",
    "        elif action_label == \"RIGHT\": \n",
    "          Y_new = Y\n",
    "          X_new = X +1 if X < (grid_dims[1]-1) else X\n",
    "\n",
    "        elif action_label == \"STAY\":\n",
    "          Y_new, X_new = Y, X \n",
    "        \n",
    "        self.current_location = (Y_new, X_new) # store the new grid location\n",
    "\n",
    "        loc_obs = self.current_location # agent always directly observes the grid location they're in \n",
    "\n",
    "        if self.current_location == self.cue1_loc:\n",
    "          cue1_obs = self.cue2_name\n",
    "        else:\n",
    "          cue1_obs = 'Null'\n",
    "\n",
    "        if self.current_location == self.cue2_loc:\n",
    "          cue2_obs = cue2_names[reward_conditions.index(self.reward_condition)+1]\n",
    "        else:\n",
    "          cue2_obs = 'Null'\n",
    "        \n",
    "        # @NOTE: here we use the same variable `reward_locations` to create both the agent's generative model (the `A` matrix) as well as the generative process. \n",
    "        # This is just for simplicity, but it's not necessary -  you could have the agent believe that the Cheese/Shock are actually stored in arbitrary, incorrect locations.\n",
    "\n",
    "        if self.current_location == reward_locations[0]:\n",
    "          if self.reward_condition == 'TOP':\n",
    "            reward_obs = 'Cheese'\n",
    "          else:\n",
    "            reward_obs = 'Shock'\n",
    "        elif self.current_location == reward_locations[1]:\n",
    "          if self.reward_condition == 'BOTTOM':\n",
    "            reward_obs = 'Cheese'\n",
    "          else:\n",
    "            reward_obs = 'Shock'\n",
    "        else:\n",
    "          reward_obs = 'Null'\n",
    "\n",
    "        return loc_obs, cue1_obs, cue2_obs, reward_obs\n",
    "\n",
    "    def reset(self):\n",
    "        self.current_location = self.init_loc\n",
    "        print(f'Re-initialized location to {self.init_loc}')\n",
    "        loc_obs = self.current_location\n",
    "        cue1_obs = 'Null'\n",
    "        cue2_obs = 'Null'\n",
    "        reward_obs = 'Null'\n",
    "\n",
    "        return loc_obs, cue1_obs, cue2_obs, reward_obs"
   ]
  },
  {
   "cell_type": "markdown",
   "metadata": {},
   "source": [
    "## Active Inference\n",
    "\n",
    "Now that we have a generative model and generative process set up, we can quickly run active inference in `pymdp`. In order to do this, all we need to do is to create an `Agent` using the `Agent()` constructor and create a generative process / environment using our custom `GridWorldEnv` class. Then we just exchange observations and actions between the two in a loop over time, where the agent updates its beliefs and actions using the `Agent` methods like `infer_states()` and `infer_policies()`.\n"
   ]
  },
  {
   "cell_type": "markdown",
   "metadata": {},
   "source": [
    "### Initialize an `Agent` and an instance of `GridWorldEnv`\n",
    "We can quickly construct an instance of `Agent` using our generative model arrays as inputs: `A`, `B`, `C`, and `D`. Since we are dealing with a spatially-extended navigation example, we will also use a `policy_len` parameter that lets the agent plan its movements forward in time. This sort of temporally deep planning is needed because of A) the local nature of the agent's action repetoire (only being able to move UP, LEFT, RIGHT, and DOWN), and B) the physical distance between the cues and reward locations in the grid world.\n",
    "\n",
    "We can also initialize the `GridWorldEnv` class using a desired starting location, a Cue 1 location, Cue 2 location, and reward condition. We can get the first (multi-modality) observation of the simulation by using `env.reset()`"
   ]
  },
  {
   "cell_type": "code",
   "execution_count": 17,
   "metadata": {},
   "outputs": [
    {
     "name": "stdout",
     "output_type": "stream",
     "text": [
      "Starting location is (0, 0), Reward condition is BOTTOM, cue is located in L4\n",
      "Re-initialized location to (0, 0)\n"
     ]
    }
   ],
   "source": [
    "my_agent = Agent(A = A, B = B, C = C, D = D, policy_len = 4)\n",
    "\n",
    "my_env = GridWorldEnv(starting_loc = (0,0), cue1_loc = (2, 0), cue2 = 'L4', reward_condition = 'BOTTOM')\n",
    "\n",
    "loc_obs, cue1_obs, cue2_obs, reward_obs = my_env.reset()"
   ]
  },
  {
   "cell_type": "markdown",
   "metadata": {},
   "source": [
    "### Run an active inference loop over time\n",
    "...saving the history of the rat's locations as you do so. Include some print statements if you want to see the output of the agent's choices as they unfold."
   ]
  },
  {
   "cell_type": "code",
   "execution_count": 18,
   "metadata": {},
   "outputs": [
    {
     "name": "stdout",
     "output_type": "stream",
     "text": [
      "Action at time 0: DOWN\n",
      "Grid location at time 0: (1, 0)\n",
      "Reward at time 0: Null\n",
      "Action at time 1: DOWN\n",
      "Grid location at time 1: (2, 0)\n",
      "Reward at time 1: Null\n",
      "Action at time 2: DOWN\n",
      "Grid location at time 2: (3, 0)\n",
      "Reward at time 2: Null\n",
      "Action at time 3: RIGHT\n",
      "Grid location at time 3: (3, 1)\n",
      "Reward at time 3: Null\n",
      "Action at time 4: DOWN\n",
      "Grid location at time 4: (4, 1)\n",
      "Reward at time 4: Null\n",
      "Action at time 5: RIGHT\n",
      "Grid location at time 5: (4, 2)\n",
      "Reward at time 5: Null\n",
      "Action at time 6: RIGHT\n",
      "Grid location at time 6: (4, 3)\n",
      "Reward at time 6: Null\n",
      "Action at time 7: RIGHT\n",
      "Grid location at time 7: (4, 4)\n",
      "Reward at time 7: Null\n",
      "Action at time 8: RIGHT\n",
      "Grid location at time 8: (4, 5)\n",
      "Reward at time 8: Null\n",
      "Action at time 9: UP\n",
      "Grid location at time 9: (3, 5)\n",
      "Reward at time 9: Cheese\n"
     ]
    }
   ],
   "source": [
    "history_of_locs = [loc_obs]\n",
    "obs = [loc_list.index(loc_obs), cue1_names.index(cue1_obs), cue2_names.index(cue2_obs), reward_names.index(reward_obs)]\n",
    "\n",
    "T = 10 # number of total timesteps\n",
    "\n",
    "for t in range(T):\n",
    "\n",
    "    qs = my_agent.infer_states(obs)\n",
    "    \n",
    "    my_agent.infer_policies()\n",
    "    chosen_action_id = my_agent.sample_action()\n",
    "\n",
    "    movement_id = int(chosen_action_id[0])\n",
    "\n",
    "    choice_action = actions[movement_id]\n",
    "\n",
    "    print(f'Action at time {t}: {choice_action}')\n",
    "\n",
    "    loc_obs, cue1_obs, cue2_obs, reward_obs = my_env.step(choice_action)\n",
    "\n",
    "    obs = [loc_list.index(loc_obs), cue1_names.index(cue1_obs), cue2_names.index(cue2_obs), reward_names.index(reward_obs)]\n",
    "\n",
    "    history_of_locs.append(loc_obs)\n",
    "\n",
    "    print(f'Grid location at time {t}: {loc_obs}')\n",
    "\n",
    "    print(f'Reward at time {t}: {reward_obs}')\n"
   ]
  },
  {
   "cell_type": "markdown",
   "metadata": {},
   "source": [
    "### Visualization\n",
    "\n",
    "Now let's do a quick visualization of the rat's movements over a single trial. We'll indicate the grid location and time of its movements using a hot colormap (so hotter colors means later in the trial), and indicate the Cue 1 and Cue 2 locations with purple outlined boxes. Each of the possible Cue 2 locations will be highlighted in a light blue.\n",
    "\n",
    "Try changing the initial settings of the generative process (the locations of Cue1, Cue 2, the reward condition, etc.) to see how and the extent to which the active inference agent can adapt its behavior to the changing environmental contingencies."
   ]
  },
  {
   "cell_type": "code",
   "execution_count": 19,
   "metadata": {},
   "outputs": [
    {
     "data": {
      "text/plain": [
       "Text(0.5, 1.0, 'Cue 1 located at (4, 2), Cue 2 located at (4, 2), Cheese on BOTTOM')"
      ]
     },
     "execution_count": 19,
     "metadata": {},
     "output_type": "execute_result"
    },
    {
     "data": {
      "image/png": "[encoded data removed]",
      "text/plain": [
       "<Figure size 720x432 with 1 Axes>"
      ]
     },
     "metadata": {
      "needs_background": "light"
     },
     "output_type": "display_data"
    }
   ],
   "source": [
    "all_locations = np.vstack(history_of_locs).astype(float) # create a matrix containing the agent's Y/X locations over time (each coordinate in one row of the matrix)\n",
    "\n",
    "fig, ax = plt.subplots(figsize=(10, 6)) \n",
    "\n",
    "# create the grid visualization\n",
    "X, Y = np.meshgrid(np.arange(grid_dims[1]+1), np.arange(grid_dims[0]+1))\n",
    "h = ax.pcolormesh(X, Y, np.ones(grid_dims), edgecolors='k', vmin = 0, vmax = 30, linewidth=3, cmap = 'coolwarm')\n",
    "ax.invert_yaxis()\n",
    "\n",
    "# get generative process global parameters (the locations of the Cues, the reward condition, etc.)\n",
    "cue1_loc, cue2_loc, reward_condition = my_env.cue1_loc, my_env.cue2_loc, my_env.reward_condition\n",
    "reward_top = ax.add_patch(patches.Rectangle((reward_locations[0][1],reward_locations[0][0]),1.0,1.0,linewidth=5,edgecolor=[0.5, 0.5, 0.5],facecolor='none'))\n",
    "reward_bottom = ax.add_patch(patches.Rectangle((reward_locations[1][1],reward_locations[1][0]),1.0,1.0,linewidth=5,edgecolor=[0.5, 0.5, 0.5],facecolor='none'))\n",
    "reward_loc = reward_locations[0] if reward_condition == \"TOP\" else reward_locations[1]\n",
    "\n",
    "if reward_condition == \"TOP\":\n",
    "    reward_top.set_edgecolor('g')\n",
    "    reward_top.set_facecolor('g')\n",
    "    reward_bottom.set_edgecolor([0.7, 0.2, 0.2])\n",
    "    reward_bottom.set_facecolor([0.7, 0.2, 0.2])\n",
    "elif reward_condition == \"BOTTOM\":\n",
    "    reward_bottom.set_edgecolor('g')\n",
    "    reward_bottom.set_facecolor('g')\n",
    "    reward_top.set_edgecolor([0.7, 0.2, 0.2])\n",
    "    reward_top.set_facecolor([0.7, 0.2, 0.2])\n",
    "reward_top.set_zorder(1)\n",
    "reward_bottom.set_zorder(1)\n",
    "\n",
    "text_offsets = [0.4, 0.6]\n",
    "cue_grid = np.ones(grid_dims)\n",
    "cue_grid[cue1_loc[0],cue1_loc[1]] = 15.0\n",
    "for ii, loc_ii in enumerate(cue2_locations):\n",
    "  row_coord, column_coord = loc_ii\n",
    "  cue_grid[row_coord, column_coord] = 5.0\n",
    "  ax.text(column_coord+text_offsets[0], row_coord+text_offsets[1], cue2_loc_names[ii], fontsize = 15, color='k')\n",
    "  \n",
    "h.set_array(cue_grid.ravel())\n",
    "\n",
    "cue1_rect = ax.add_patch(patches.Rectangle((cue1_loc[1],cue1_loc[0]),1.0,1.0,linewidth=8,edgecolor=[0.5, 0.2, 0.7],facecolor='none'))\n",
    "cue2_rect = ax.add_patch(patches.Rectangle((cue2_loc[1],cue2_loc[0]),1.0,1.0,linewidth=8,edgecolor=[0.5, 0.2, 0.7],facecolor='none'))\n",
    "\n",
    "ax.plot(all_locations[:,1]+0.5,all_locations[:,0]+0.5, 'r', zorder = 2)\n",
    "\n",
    "temporal_colormap = cm.hot(np.linspace(0,1,T+1))\n",
    "dots = ax.scatter(all_locations[:,1]+0.5,all_locations[:,0]+0.5, 450, c = temporal_colormap, zorder=3)\n",
    "\n",
    "ax.set_title(f\"Cue 1 located at {cue2_loc}, Cue 2 located at {cue2_loc}, Cheese on {reward_condition}\", fontsize=16)\n"
   ]
  },
  {
   "cell_type": "markdown",
   "metadata": {},
   "source": [
    "### Experimenting with different environmental structure\n",
    "\n",
    "Try changing around the locations of the rewards, the cues, the agent's beliefs, etc. For example, below we'll change the location of the rewards, both in the generative model and the generative process."
   ]
  },
  {
   "cell_type": "code",
   "execution_count": 20,
   "metadata": {},
   "outputs": [],
   "source": [
    "# names of the reward conditions and their locations\n",
    "reward_conditions = [\"LEFT\", \"RIGHT\"]\n",
    "reward_locations = [(2, 2), (2, 4)] # DIFFERENT REWARD LOCATIONS\n",
    "\n",
    "## reset `A[3]`, the reward observation model\n",
    "\n",
    "A[3] = np.zeros([num_obs[3]] + num_states)\n",
    "# make the reward observation depend on the location (being at reward location) and the reward condition\n",
    "A[3][0,:,:,:] = 1.0 # default makes Null the most likely observation everywhere\n",
    "\n",
    "rew_top_idx = loc_list.index(reward_locations[0]) # linear index of the location of the \"TOP\" reward location\n",
    "rew_bott_idx = loc_list.index(reward_locations[1]) # linear index of the location of the \"BOTTOM\" reward location\n",
    "\n",
    "# fill out the contingencies when the agent is in the \"TOP\" reward location\n",
    "A[3][0,rew_top_idx,:,:] = 0.0\n",
    "A[3][1,rew_top_idx,:,0] = 1.0\n",
    "A[3][2,rew_top_idx,:,1] = 1.0\n",
    "\n",
    "# fill out the contingencies when the agent is in the \"BOTTOM\" reward location\n",
    "A[3][0,rew_bott_idx,:,:] = 0.0\n",
    "A[3][1,rew_bott_idx,:,1] = 1.0\n",
    "A[3][2,rew_bott_idx,:,0] = 1.0\n",
    "\n",
    "class GridWorldEnv():\n",
    "    \n",
    "    def __init__(self,starting_loc = (4,0), cue1_loc = (2, 0), cue2 = 'L1', reward_condition = 'LEFT'):\n",
    "\n",
    "        self.init_loc = starting_loc\n",
    "        self.current_location = self.init_loc\n",
    "\n",
    "        self.cue1_loc = cue1_loc\n",
    "        self.cue2_name = cue2\n",
    "        self.cue2_loc_names = ['L1', 'L2', 'L3', 'L4']\n",
    "        self.cue2_loc = cue2_locations[self.cue2_loc_names.index(self.cue2_name)]\n",
    "\n",
    "        self.reward_condition = reward_condition\n",
    "        print(f'Starting location is {self.init_loc}, Reward condition is {self.reward_condition}, cue is located in {self.cue2_name}')\n",
    "    \n",
    "    def step(self,action_label):\n",
    "\n",
    "        (Y, X) = self.current_location\n",
    "\n",
    "        if action_label == \"UP\": \n",
    "          \n",
    "          Y_new = Y - 1 if Y > 0 else Y\n",
    "          X_new = X\n",
    "\n",
    "        elif action_label == \"DOWN\": \n",
    "\n",
    "          Y_new = Y + 1 if Y < (grid_dims[0]-1) else Y\n",
    "          X_new = X\n",
    "\n",
    "        elif action_label == \"LEFT\": \n",
    "          Y_new = Y\n",
    "          X_new = X - 1 if X > 0 else X\n",
    "\n",
    "        elif action_label == \"RIGHT\": \n",
    "          Y_new = Y\n",
    "          X_new = X +1 if X < (grid_dims[1]-1) else X\n",
    "\n",
    "        elif action_label == \"STAY\":\n",
    "          Y_new, X_new = Y, X \n",
    "        \n",
    "        self.current_location = (Y_new, X_new) # store the new grid location\n",
    "\n",
    "        loc_obs = self.current_location # agent always directly observes the grid location they're in \n",
    "\n",
    "        if self.current_location == self.cue1_loc:\n",
    "          cue1_obs = self.cue2_name\n",
    "        else:\n",
    "          cue1_obs = 'Null'\n",
    "\n",
    "        if self.current_location == self.cue2_loc:\n",
    "          cue2_obs = cue2_names[reward_conditions.index(self.reward_condition)+1]\n",
    "        else:\n",
    "          cue2_obs = 'Null'\n",
    "        \n",
    "        # @NOTE: here we use the same variable `reward_locations` to create both the agent's generative model (the `A` matrix) as well as the generative process. \n",
    "        # This is just for simplicity, but it's not necessary -  you could have the agent believe that the Cheese/Shock are actually stored in arbitrary, incorrect locations.\n",
    "\n",
    "        if self.current_location == reward_locations[0]:\n",
    "          if self.reward_condition == 'LEFT':\n",
    "            reward_obs = 'Cheese'\n",
    "          else:\n",
    "            reward_obs = 'Shock'\n",
    "        elif self.current_location == reward_locations[1]:\n",
    "          if self.reward_condition == 'RIGHT':\n",
    "            reward_obs = 'Cheese'\n",
    "          else:\n",
    "            reward_obs = 'Shock'\n",
    "        else:\n",
    "          reward_obs = 'Null'\n",
    "\n",
    "        return loc_obs, cue1_obs, cue2_obs, reward_obs\n",
    "\n",
    "    def reset(self):\n",
    "        self.current_location = self.init_loc\n",
    "        print(f'Re-initialized location to {self.init_loc}')\n",
    "        loc_obs = self.current_location\n",
    "        cue1_obs = 'Null'\n",
    "        cue2_obs = 'Null'\n",
    "        reward_obs = 'Null'\n",
    "\n",
    "        return loc_obs, cue1_obs, cue2_obs, reward_obs"
   ]
  },
  {
   "cell_type": "code",
   "execution_count": 21,
   "metadata": {},
   "outputs": [
    {
     "name": "stdout",
     "output_type": "stream",
     "text": [
      "Starting location is (0, 0), Reward condition is RIGHT, cue is located in L1\n",
      "Re-initialized location to (0, 0)\n",
      "Action at time 0: DOWN\n",
      "Grid location at time 0: (1, 0)\n",
      "Reward at time 0: Null\n",
      "Action at time 1: DOWN\n",
      "Grid location at time 1: (2, 0)\n",
      "Reward at time 1: Null\n",
      "Action at time 2: UP\n",
      "Grid location at time 2: (1, 0)\n",
      "Reward at time 2: Null\n",
      "Action at time 3: RIGHT\n",
      "Grid location at time 3: (1, 1)\n",
      "Reward at time 3: Null\n",
      "Action at time 4: UP\n",
      "Grid location at time 4: (0, 1)\n",
      "Reward at time 4: Null\n",
      "Action at time 5: RIGHT\n",
      "Grid location at time 5: (0, 2)\n",
      "Reward at time 5: Null\n",
      "Action at time 6: RIGHT\n",
      "Grid location at time 6: (0, 3)\n",
      "Reward at time 6: Null\n",
      "Action at time 7: DOWN\n",
      "Grid location at time 7: (1, 3)\n",
      "Reward at time 7: Null\n",
      "Action at time 8: DOWN\n",
      "Grid location at time 8: (2, 3)\n",
      "Reward at time 8: Null\n",
      "Action at time 9: RIGHT\n",
      "Grid location at time 9: (2, 4)\n",
      "Reward at time 9: Cheese\n"
     ]
    }
   ],
   "source": [
    "my_agent = Agent(A = A, B = B, C = C, D = D, policy_len = 4)\n",
    "\n",
    "my_env = GridWorldEnv(starting_loc = (0,0), cue1_loc = (2, 0), cue2 = 'L1', reward_condition = 'RIGHT')\n",
    "\n",
    "loc_obs, cue1_obs, cue2_obs, reward_obs = my_env.reset()\n",
    "\n",
    "history_of_locs = [loc_obs]\n",
    "obs = [loc_list.index(loc_obs), cue1_names.index(cue1_obs), cue2_names.index(cue2_obs), reward_names.index(reward_obs)]\n",
    "\n",
    "T = 10 # number of total timesteps\n",
    "\n",
    "for t in range(T):\n",
    "\n",
    "    qs = my_agent.infer_states(obs)\n",
    "    \n",
    "    my_agent.infer_policies()\n",
    "    chosen_action_id = my_agent.sample_action()\n",
    "\n",
    "    movement_id = int(chosen_action_id[0])\n",
    "\n",
    "    choice_action = actions[movement_id]\n",
    "\n",
    "    print(f'Action at time {t}: {choice_action}')\n",
    "\n",
    "    loc_obs, cue1_obs, cue2_obs, reward_obs = my_env.step(choice_action)\n",
    "\n",
    "    obs = [loc_list.index(loc_obs), cue1_names.index(cue1_obs), cue2_names.index(cue2_obs), reward_names.index(reward_obs)]\n",
    "\n",
    "    history_of_locs.append(loc_obs)\n",
    "\n",
    "    print(f'Grid location at time {t}: {loc_obs}')\n",
    "\n",
    "    print(f'Reward at time {t}: {reward_obs}')"
   ]
  },
  {
   "cell_type": "code",
   "execution_count": 22,
   "metadata": {},
   "outputs": [
    {
     "data": {
      "text/plain": [
       "Text(0.5, 1.0, 'Cue 1 located at (0, 2), Cue 2 located at (0, 2), Cheese on RIGHT')"
      ]
     },
     "execution_count": 22,
     "metadata": {},
     "output_type": "execute_result"
    },
    {
     "data": {
      "image/png": "[encoded data removed]",
      "text/plain": [
       "<Figure size 720x432 with 1 Axes>"
      ]
     },
     "metadata": {
      "needs_background": "light"
     },
     "output_type": "display_data"
    }
   ],
   "source": [
    "\n",
    "all_locations = np.vstack(history_of_locs).astype(float) # create a matrix containing the agent's Y/X locations over time (each coordinate in one row of the matrix)\n",
    "\n",
    "fig, ax = plt.subplots(figsize=(10, 6)) \n",
    "\n",
    "# create the grid visualization\n",
    "X, Y = np.meshgrid(np.arange(grid_dims[1]+1), np.arange(grid_dims[0]+1))\n",
    "h = ax.pcolormesh(X, Y, np.ones(grid_dims), edgecolors='k', vmin = 0, vmax = 30, linewidth=3, cmap = 'coolwarm')\n",
    "ax.invert_yaxis()\n",
    "\n",
    "# get generative process global parameters (the locations of the Cues, the reward condition, etc.)\n",
    "cue1_loc, cue2_loc, reward_condition = my_env.cue1_loc, my_env.cue2_loc, my_env.reward_condition\n",
    "reward_top = ax.add_patch(patches.Rectangle((reward_locations[0][1],reward_locations[0][0]),1.0,1.0,linewidth=5,edgecolor=[0.5, 0.5, 0.5],facecolor='none'))\n",
    "reward_bottom = ax.add_patch(patches.Rectangle((reward_locations[1][1],reward_locations[1][0]),1.0,1.0,linewidth=5,edgecolor=[0.5, 0.5, 0.5],facecolor='none'))\n",
    "reward_loc = reward_locations[0] if reward_condition == \"LEFT\" else reward_locations[1]\n",
    "\n",
    "if reward_condition == \"LEFT\":\n",
    "    reward_top.set_edgecolor('g')\n",
    "    reward_top.set_facecolor('g')\n",
    "    reward_bottom.set_edgecolor([0.7, 0.2, 0.2])\n",
    "    reward_bottom.set_facecolor([0.7, 0.2, 0.2])\n",
    "elif reward_condition == \"RIGHT\":\n",
    "    reward_bottom.set_edgecolor('g')\n",
    "    reward_bottom.set_facecolor('g')\n",
    "    reward_top.set_edgecolor([0.7, 0.2, 0.2])\n",
    "    reward_top.set_facecolor([0.7, 0.2, 0.2])\n",
    "reward_top.set_zorder(1)\n",
    "reward_bottom.set_zorder(1)\n",
    "\n",
    "text_offsets = [0.4, 0.6]\n",
    "cue_grid = np.ones(grid_dims)\n",
    "cue_grid[cue1_loc[0],cue1_loc[1]] = 15.0\n",
    "for ii, loc_ii in enumerate(cue2_locations):\n",
    "  row_coord, column_coord = loc_ii\n",
    "  cue_grid[row_coord, column_coord] = 5.0\n",
    "  ax.text(column_coord+text_offsets[0], row_coord+text_offsets[1], cue2_loc_names[ii], fontsize = 15, color='k')\n",
    "  \n",
    "h.set_array(cue_grid.ravel())\n",
    "\n",
    "cue1_rect = ax.add_patch(patches.Rectangle((cue1_loc[1],cue1_loc[0]),1.0,1.0,linewidth=8,edgecolor=[0.5, 0.2, 0.7],facecolor='none'))\n",
    "cue2_rect = ax.add_patch(patches.Rectangle((cue2_loc[1],cue2_loc[0]),1.0,1.0,linewidth=8,edgecolor=[0.5, 0.2, 0.7],facecolor='none'))\n",
    "\n",
    "ax.plot(all_locations[:,1]+0.5,all_locations[:,0]+0.5, 'r', zorder = 2)\n",
    "\n",
    "temporal_colormap = cm.hot(np.linspace(0,1,T+1))\n",
    "dots = ax.scatter(all_locations[:,1]+0.5,all_locations[:,0]+0.5, 450, c = temporal_colormap, zorder=3)\n",
    "\n",
    "ax.set_title(f\"Cue 1 located at {cue2_loc}, Cue 2 located at {cue2_loc}, Cheese on {reward_condition}\", fontsize=16)"
   ]
  }
 ],
 "metadata": {
  "interpreter": {
   "hash": "24ee14d9f6452059a99d44b6cbd71d1bb479b0539b0360a6a17428ecea9f0810"
  },
  "kernelspec": {
   "display_name": "Python 3.8.10 64-bit ('pymdp_env2': conda)",
   "language": "python",
   "name": "python3"
  },
  "language_info": {
   "codemirror_mode": {
    "name": "ipython",
    "version": 3
   },
   "file_extension": ".py",
   "mimetype": "text/x-python",
   "name": "python",
   "nbconvert_exporter": "python",
   "pygments_lexer": "ipython3",
   "version": "3.8.8"
  },
  "orig_nbformat": 4
 },
 "nbformat": 4,
 "nbformat_minor": 2
}
